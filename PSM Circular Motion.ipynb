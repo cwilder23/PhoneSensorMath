{
 "cells": [
  {
   "cell_type": "markdown",
   "metadata": {},
   "source": [
    "# Circular Motion"
   ]
  },
  {
   "cell_type": "markdown",
   "metadata": {},
   "source": [
    "The purpose of this juptyer notebook is to take a csv or Excel file of accelerometer readings from a turntable and return the raduis of this turntable as well as the angular velocity. This notebook is taylored to work with the ouput from the Phyphox app for the iPhone, specifically the \"Acceleration (without g)\" raw sensor, (also available for android), but we have tried to make it easily modified for other apps. To generate the necessary data we began the recording and then put the phone on the turntable with enough time for at least six or seven rotations. Using the acceration data we created a plot and used a Fourier transformation to find the frequency of motion."
   ]
  },
  {
   "cell_type": "markdown",
   "metadata": {},
   "source": [
    "### The Input File Specification\n",
    "\n",
    "What follows assumes that the input.csv file resembles:\n",
    "```\n",
    "Time (s), Linear Acceleration x (m/s^2), Linear Acceleration y (m/s^2), Linear Acceleration z (m/s^2), Absolute acceleration (m/s^2)\n",
    "\n",
    "0.000000,\t-0.081457,\t-0.065700,\t-0.114250,\t0.154935,\n",
    "0.009988,\t-0.081636,\t-0.057592,\t-0.085180,\t0.131289,\n",
    "0.019976,\t-0.151881,\t-0.028972,\t-0.128110,\t0.200797,\n",
    "0.029963,\t-0.145120,\t-0.014326,\t-0.186789,\t0.236971,\n",
    "0.039951,\t-0.052697,\t-0.040153,\t-0.211472,\t0.221607\n",
    "\n",
    "```\n",
    "The ```Time (s)``` column has a time stamp for each data point given in seconds by time elapsed since the recording started.\n",
    "\n",
    "The accelerometer calculates acceleration in the $x$, $y$, and $z$ directions. The ```Linear Acceleration x (m/s^2), Linear Acceleration y (m/s^2)``` and ```Linear Acceleration z (m/s^2)``` columns represent these directional accelerations respectively. For the iPhone and this particular app, the $x$-axis is parrallel to the width of the phone, the $y$-axis is parallel to the height of the phone, and the $z$-axis is perpendicular to the face of the phone, where a vector coming out of the face of the phone points in the positive direction. Your axes may be oreinted differently. You may also need to edit the headers depending on the format of your data file.\n",
    "\n",
    "The ```Absolute acceleration (m/s^2)``` column values is the magnitude of the vector ```<Linear Acceleration x (m/s^2), Linear Acceleration y (m/s^2), Linear Acceleration z (m/s^2)>```. It is always positive and not relevant for our experiment. We will be interested in the $x$ and $y$ acceleration."
   ]
  },
  {
   "cell_type": "code",
   "execution_count": 1,
   "metadata": {},
   "outputs": [],
   "source": [
    "# These are the necessary libraries to plot, deal with arrays, and convert time from day to seconds\n",
    "import numpy as np\n",
    "import matplotlib.pyplot as plt\n",
    "import pandas as pd\n",
    "from numpy.fft import fft"
   ]
  },
  {
   "cell_type": "markdown",
   "metadata": {},
   "source": [
    "### Data Collection\n",
    "The acceleration readings in this experiment are from the PhyPhox app, but other accelerometer or G-force app sensors would also work with som modification. An iPhone 8 was placed on the end of a turntable. Then the turntable was started at a constant speed after the recording began. After 30 seconds or so the recording and turntable were stopped. If a turntable is not accessible there are other options such as using a desk chair or salad spinner; however, these result in more difficulty maintaining uniform circular motion which is necessary for this experiment.\n",
    "\n",
    "We'd recomend performing this experiment three times and averaging the data values. This provides students with more accurate results and teaches the importance of multiple trials in the scientific method. "
   ]
  },
  {
   "cell_type": "code",
   "execution_count": 2,
   "metadata": {},
   "outputs": [
    {
     "data": {
      "text/html": [
       "<div>\n",
       "<style scoped>\n",
       "    .dataframe tbody tr th:only-of-type {\n",
       "        vertical-align: middle;\n",
       "    }\n",
       "\n",
       "    .dataframe tbody tr th {\n",
       "        vertical-align: top;\n",
       "    }\n",
       "\n",
       "    .dataframe thead th {\n",
       "        text-align: right;\n",
       "    }\n",
       "</style>\n",
       "<table border=\"1\" class=\"dataframe\">\n",
       "  <thead>\n",
       "    <tr style=\"text-align: right;\">\n",
       "      <th></th>\n",
       "      <th>Time (s)</th>\n",
       "      <th>Linear Acceleration x (m/s^2)</th>\n",
       "      <th>Linear Acceleration y (m/s^2)</th>\n",
       "      <th>Linear Acceleration z (m/s^2)</th>\n",
       "      <th>Absolute acceleration (m/s^2)</th>\n",
       "    </tr>\n",
       "  </thead>\n",
       "  <tbody>\n",
       "    <tr>\n",
       "      <td>0</td>\n",
       "      <td>0.000000</td>\n",
       "      <td>-0.290136</td>\n",
       "      <td>0.569650</td>\n",
       "      <td>-1.237718</td>\n",
       "      <td>1.393063</td>\n",
       "    </tr>\n",
       "    <tr>\n",
       "      <td>1</td>\n",
       "      <td>0.009989</td>\n",
       "      <td>-0.245318</td>\n",
       "      <td>0.710297</td>\n",
       "      <td>-1.140861</td>\n",
       "      <td>1.366113</td>\n",
       "    </tr>\n",
       "    <tr>\n",
       "      <td>2</td>\n",
       "      <td>0.019978</td>\n",
       "      <td>-0.330835</td>\n",
       "      <td>0.760613</td>\n",
       "      <td>-1.028888</td>\n",
       "      <td>1.321587</td>\n",
       "    </tr>\n",
       "    <tr>\n",
       "      <td>3</td>\n",
       "      <td>0.029968</td>\n",
       "      <td>-0.343731</td>\n",
       "      <td>0.728265</td>\n",
       "      <td>-0.757940</td>\n",
       "      <td>1.105891</td>\n",
       "    </tr>\n",
       "    <tr>\n",
       "      <td>4</td>\n",
       "      <td>0.039957</td>\n",
       "      <td>-0.242073</td>\n",
       "      <td>0.668524</td>\n",
       "      <td>-0.233431</td>\n",
       "      <td>0.748341</td>\n",
       "    </tr>\n",
       "  </tbody>\n",
       "</table>\n",
       "</div>"
      ],
      "text/plain": [
       "   Time (s)  Linear Acceleration x (m/s^2)  Linear Acceleration y (m/s^2)  \\\n",
       "0  0.000000                      -0.290136                       0.569650   \n",
       "1  0.009989                      -0.245318                       0.710297   \n",
       "2  0.019978                      -0.330835                       0.760613   \n",
       "3  0.029968                      -0.343731                       0.728265   \n",
       "4  0.039957                      -0.242073                       0.668524   \n",
       "\n",
       "   Linear Acceleration z (m/s^2)  Absolute acceleration (m/s^2)  \n",
       "0                      -1.237718                       1.393063  \n",
       "1                      -1.140861                       1.366113  \n",
       "2                      -1.028888                       1.321587  \n",
       "3                      -0.757940                       1.105891  \n",
       "4                      -0.233431                       0.748341  "
      ]
     },
     "execution_count": 2,
     "metadata": {},
     "output_type": "execute_result"
    }
   ],
   "source": [
    "# Looking at the first few data points on the file\n",
    "raw = pd.read_excel(\"TurntableGforce.xls\")\n",
    "raw.head()"
   ]
  },
  {
   "cell_type": "code",
   "execution_count": 3,
   "metadata": {},
   "outputs": [],
   "source": [
    "# Creating each of the necessary columns of data into array\n",
    "t = np.array(raw['Time (s)'])\n",
    "ax = np.array(raw['Linear Acceleration x (m/s^2)'])\n",
    "ay = np.array(raw['Linear Acceleration y (m/s^2)'])"
   ]
  },
  {
   "cell_type": "code",
   "execution_count": 4,
   "metadata": {},
   "outputs": [
    {
     "data": {
      "text/plain": [
       "[<matplotlib.lines.Line2D at 0x21a1dec4f08>]"
      ]
     },
     "execution_count": 4,
     "metadata": {},
     "output_type": "execute_result"
    },
    {
     "data": {
      "image/png": "[encoded data removed]",
      "text/plain": [
       "<Figure size 432x288 with 1 Axes>"
      ]
     },
     "metadata": {
      "needs_background": "light"
     },
     "output_type": "display_data"
    }
   ],
   "source": [
    "# A plot of \n",
    "plt.plot(t, ay)\n",
    "plt.plot(t,ax,'red')"
   ]
  },
  {
   "cell_type": "markdown",
   "metadata": {},
   "source": [
    "### Data Modification\n",
    "Since it is tricky to have the recording begin once the turntable has already started spinning, there is data in the very beginning that is not representative of uniform circular motion. Similarly there is also data at the end of the recording which should not be included. In the following section, we remove data from the end and beginning by visual inspection of the plot above. The purpose is to only have the data that is representative of uniform circular motion which is where the acceleration plots look like $\\sin$ or $\\cos$ functions. In our case, this occus from approximately 5 seconds to 25 seconds. Given the average time between data points is 0.013 seconds, we can choose how to splice our time and acceleration arrays to obtain only the relevatn data."
   ]
  },
  {
   "cell_type": "code",
   "execution_count": 5,
   "metadata": {},
   "outputs": [
    {
     "data": {
      "text/plain": [
       "[<matplotlib.lines.Line2D at 0x21a1dedb888>]"
      ]
     },
     "execution_count": 5,
     "metadata": {},
     "output_type": "execute_result"
    },
    {
     "data": {
      "image/png": "[encoded data removed]",
      "text/plain": [
       "<Figure size 432x288 with 1 Axes>"
      ]
     },
     "metadata": {
      "needs_background": "light"
     },
     "output_type": "display_data"
    }
   ],
   "source": [
    "# These are conservative estimates of how to splice the arrays\n",
    "t = t[600:2500]\n",
    "ax = ax[600:2500]\n",
    "ay = ay[600:2500]\n",
    "plt.xlabel(\"Time\")\n",
    "plt.ylabel(\"Acceleration (x and y directions)\")\n",
    "plt.plot(t,ax, 'red')\n",
    "plt.plot(t,ay)"
   ]
  },
  {
   "cell_type": "code",
   "execution_count": 17,
   "metadata": {},
   "outputs": [
    {
     "data": {
      "text/plain": [
       "18.96952150017023"
      ]
     },
     "execution_count": 17,
     "metadata": {},
     "output_type": "execute_result"
    }
   ],
   "source": [
    "# Here we find the average time between data points\n",
    "total_time = t[-1] - t[0]\n",
    "dt = total_time/len(t)\n",
    "total_time\n",
    "#dt"
   ]
  },
  {
   "cell_type": "markdown",
   "metadata": {},
   "source": [
    "### Approximating the Period\n",
    "Our next time in this notebook will be to use a Fourier transformation to find the period of motion. However, first we will look at how to estimate the period to check our own calculations for reasonability. Examining the plot of the modified data from above, we can look at both the $x$ and $y$ acceleration plots to find how many oscillations there are within this time period. By inspection, we see that there are approximately 10 oscillations. The period of motion can be given by the total time divided by our number of oscialltions. This is approximated below and it looks as if our period of motions in close to two and a half seconds."
   ]
  },
  {
   "cell_type": "code",
   "execution_count": 18,
   "metadata": {},
   "outputs": [
    {
     "data": {
      "text/plain": [
       "1.896952150017023"
      ]
     },
     "execution_count": 18,
     "metadata": {},
     "output_type": "execute_result"
    }
   ],
   "source": [
    "total_time/10"
   ]
  },
  {
   "cell_type": "markdown",
   "metadata": {},
   "source": [
    "### Fourier Transformations \n",
    "The fourier transformation is a complicated process. For our purposes, it suffices to note that the Fourier transformation essentially acts like a power series to describe the discrete data we collected. This process helps to approximate the number of osciallations in the motion and thus the frequency and period as well. The python function we use below, fft() outputs an array that is the same size as our acceleration array. Where the maximum of this array occurs is the number of oscillations that is the \"best fit\" for our data. We can perform this process on both the accerlation data in the $x-$ and $y-$ directions to compare since both should have the same number of oscillations."
   ]
  },
  {
   "cell_type": "code",
   "execution_count": 19,
   "metadata": {},
   "outputs": [],
   "source": [
    "fx = np.abs(fft(ax))\n",
    "fy = np.abs(fft(ay))"
   ]
  },
  {
   "cell_type": "code",
   "execution_count": 20,
   "metadata": {},
   "outputs": [
    {
     "data": {
      "text/plain": [
       "<BarContainer object of 799 artists>"
      ]
     },
     "execution_count": 20,
     "metadata": {},
     "output_type": "execute_result"
    },
    {
     "data": {
      "image/png": "[encoded data removed]",
      "text/plain": [
       "<Figure size 432x288 with 1 Axes>"
      ]
     },
     "metadata": {
      "needs_background": "light"
     },
     "output_type": "display_data"
    }
   ],
   "source": [
    "# We plot the first half of the fourier transform because the second half is a reflection\n",
    "# This is to see approximately where our peak is\n",
    "# The first graph represents x-acceleration and the second graph represents y-acceleration\n",
    "plt.bar(range(len(fx[1:800])),fx[1:800])"
   ]
  },
  {
   "cell_type": "code",
   "execution_count": 21,
   "metadata": {},
   "outputs": [
    {
     "data": {
      "text/plain": [
       "<BarContainer object of 799 artists>"
      ]
     },
     "execution_count": 21,
     "metadata": {},
     "output_type": "execute_result"
    },
    {
     "data": {
      "image/png": "[encoded data removed]",
      "text/plain": [
       "<Figure size 432x288 with 1 Axes>"
      ]
     },
     "metadata": {
      "needs_background": "light"
     },
     "output_type": "display_data"
    }
   ],
   "source": [
    "plt.bar(range(len(fy[1:800])),fy[1:800])"
   ]
  },
  {
   "cell_type": "code",
   "execution_count": 22,
   "metadata": {},
   "outputs": [
    {
     "data": {
      "text/plain": [
       "<BarContainer object of 25 artists>"
      ]
     },
     "execution_count": 22,
     "metadata": {},
     "output_type": "execute_result"
    },
    {
     "data": {
      "image/png": "[encoded data removed]",
      "text/plain": [
       "<Figure size 432x288 with 1 Axes>"
      ]
     },
     "metadata": {
      "needs_background": "light"
     },
     "output_type": "display_data"
    }
   ],
   "source": [
    "# Now we'll zoom in \n",
    "plt.bar(range(len(fx[0:25])),fx[0:25])"
   ]
  },
  {
   "cell_type": "code",
   "execution_count": 23,
   "metadata": {},
   "outputs": [
    {
     "data": {
      "text/plain": [
       "<BarContainer object of 25 artists>"
      ]
     },
     "execution_count": 23,
     "metadata": {},
     "output_type": "execute_result"
    },
    {
     "data": {
      "image/png": "[encoded data removed]",
      "text/plain": [
       "<Figure size 432x288 with 1 Axes>"
      ]
     },
     "metadata": {
      "needs_background": "light"
     },
     "output_type": "display_data"
    }
   ],
   "source": [
    "plt.bar(range(len(fy[0:25])),fy[0:25])"
   ]
  },
  {
   "cell_type": "code",
   "execution_count": 24,
   "metadata": {},
   "outputs": [],
   "source": [
    "#plt.plot(range(len(fx[1:int((len(fx)/2))])),fx[1:int(len(fx)/2)])"
   ]
  },
  {
   "cell_type": "markdown",
   "metadata": {},
   "source": [
    "### Interpreting the Fourier Transformation \n",
    "We use the above bargraphs to find the peek of the Fourier transformation, below we find it exactly by using the argmax() function in Python. Note the first bar is not relevant. However, sometimes there is more that one peek that stands out. For the example data the mode is at 11, however, for both graphs the bar at 10 is also quite tall relative to the other data. Given that the bar at 11 is approximately 80% as high as the bar at 11, we can approximate the number of oscillations by 10.6. For our purposes, this estimation will suffice. Given a total time of $18.97$ seconds, we can calculate a period of $T = \\frac{18.97}{10.6} = 1.79$ seconds and a frequncey of $f = \\frac{1}{T} = \\frac{1}{1.79} = 0.59$."
   ]
  },
  {
   "cell_type": "code",
   "execution_count": 25,
   "metadata": {},
   "outputs": [
    {
     "data": {
      "text/plain": [
       "11"
      ]
     },
     "execution_count": 25,
     "metadata": {},
     "output_type": "execute_result"
    }
   ],
   "source": [
    "N = len(t)\n",
    "np.argmax(np.abs(fx[1:N//2])) +1\n",
    "np.argmax(np.abs(fy[1:N//2])) +1"
   ]
  },
  {
   "cell_type": "markdown",
   "metadata": {},
   "source": [
    "### Finding Angular Velocity\n",
    "Angular velocity can be represented by $$\\omega = \\frac{d\\theta}{dt}.$$ Now we have calculated the period $T$, and we know the change in the angle for each period is $2\\pi$. Since we have uniform circular motion, we can calculate the constant angular velocity by $$\\omega = \\frac{d\\theta}{dt} = \\frac{2\\pi}{T} = \\frac{2\\pi}{1.79 sec} = 3.51\\frac{rad}{sec}.$$"
   ]
  },
  {
   "cell_type": "markdown",
   "metadata": {},
   "source": [
    "### Finding Revolutions Per Minute \n",
    "To convert from period to revolutions per minute, we can perform the following dimmensional analysis, $$\\frac{2\\pi rad}{1.79 sec}\\bigg(\\frac{1 revo}{2\\pi rad}\\bigg)\\bigg(\\frac{60 sec}{1 min}\\bigg) = 33.51\\frac{revo}{min}.$$ This makes sense because we set the record player to 33 and a thrid."
   ]
  },
  {
   "cell_type": "code",
   "execution_count": null,
   "metadata": {},
   "outputs": [],
   "source": []
  }
 ],
 "metadata": {
  "kernelspec": {
   "display_name": "Python 3",
   "language": "python",
   "name": "python3"
  },
  "language_info": {
   "codemirror_mode": {
    "name": "ipython",
    "version": 3
   },
   "file_extension": ".py",
   "mimetype": "text/x-python",
   "name": "python",
   "nbconvert_exporter": "python",
   "pygments_lexer": "ipython3",
   "version": "3.7.4"
  }
 },
 "nbformat": 4,
 "nbformat_minor": 2
}
