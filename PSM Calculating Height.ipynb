{
 "cells": [
  {
   "cell_type": "markdown",
   "metadata": {},
   "source": [
    "# Calculating Height Using the Linear Accelerometer"
   ]
  },
  {
   "cell_type": "markdown",
   "metadata": {},
   "source": [
    "The purpose of this juptyer notebook is to take a csv accelerometer readings and return the height of a person or object. This notebook is taylored to work with the ouput from the Phyphox app for the iPhone, specifically the \"Acceleration (without g)\" raw sensor, (also available for android), but we have tried to make it easily modified for other apps. To generate the necessary data to calculate height we began recording when the phone was at rest on the ground and then lifted the phone until it reached the height of the person we measured. We paused briefly before stopping the recording. Using the acceration data we approximated the person's height using a Riemann sum."
   ]
  },
  {
   "cell_type": "markdown",
   "metadata": {},
   "source": [
    "### The Input File Specification\n",
    "\n",
    "What follows assumes that the input.csv file resembles:\n",
    "```\n",
    "Time (s), Linear Acceleration x (m/s^2), Linear Acceleration y (m/s^2), Linear Acceleration z (m/s^2), Absolute acceleration (m/s^2)\n",
    "\n",
    "0.000000,\t-0.081457,\t-0.065700,\t-0.114250,\t0.154935,\n",
    "0.009988,\t-0.081636,\t-0.057592,\t-0.085180,\t0.131289,\n",
    "0.019976,\t-0.151881,\t-0.028972,\t-0.128110,\t0.200797,\n",
    "0.029963,\t-0.145120,\t-0.014326,\t-0.186789,\t0.236971,\n",
    "0.039951,\t-0.052697,\t-0.040153,\t-0.211472,\t0.221607\n",
    "\n",
    "```\n",
    "The ```Time (s)``` column has a time stamp for each data point given in seconds by time elapsed since the recording started.\n",
    "\n",
    "The accelerometer calculates acceleration in the $x$, $y$, and $z$ directions. The ```Linear Acceleration x (m/s^2), Linear Acceleration y (m/s^2)``` and ```Linear Acceleration z (m/s^2)``` columns represent these directional accelerations respectively. For the iPhone and this particular app, the $x$-axis is parrallel to the width of the phone, the $y$-axis is parallel to the height of the phone, and the $z$-axis is perpendicular to the face of the phone, where a vector coming out of the face of the phone points in the positive direction. Your axes may be oreinted differently. You may also need to edit the headers depending on the format of your data file.\n",
    "\n",
    "The ```Absolute acceleration (m/s^2)``` column values is the magnitude of the vector ```<Linear Acceleration x (m/s^2), Linear Acceleration y (m/s^2), Linear Acceleration z (m/s^2)>```. It is always positive and not relevant for this experiment."
   ]
  },
  {
   "cell_type": "markdown",
   "metadata": {},
   "source": [
    "\n",
    "\n",
    "\n"
   ]
  },
  {
   "cell_type": "code",
   "execution_count": 34,
   "metadata": {},
   "outputs": [],
   "source": [
    "# These are the necessary libraries to plot, deal with arrays, and convert time from day to seconds\n",
    "import numpy as np\n",
    "import matplotlib.pyplot as plt\n",
    "import pandas as pd\n",
    "import datetime as dt"
   ]
  },
  {
   "cell_type": "markdown",
   "metadata": {},
   "source": [
    "### Data Collection\n",
    "We measured the acceleration readings as someone raised a phone from the floor to the height of the human of interest. The data were measured using Physics Toolbox Sensor Suite on an iPhone 8. The human of interest is 1.62 meters tall, and the notebook calculates their height to be 1.60 meters. Granted, there is potential for large error in data collection as it is difficult to precisely stop the phone at a person's exact height.\n",
    "\n",
    "We recomend that students perform the data collection and following analysis at least three times to calculate three different height values, which can then be averaged. This will help to eliminate, or at least average out, some of the human error."
   ]
  },
  {
   "cell_type": "code",
   "execution_count": 35,
   "metadata": {},
   "outputs": [
    {
     "data": {
      "text/html": [
       "<div>\n",
       "<style scoped>\n",
       "    .dataframe tbody tr th:only-of-type {\n",
       "        vertical-align: middle;\n",
       "    }\n",
       "\n",
       "    .dataframe tbody tr th {\n",
       "        vertical-align: top;\n",
       "    }\n",
       "\n",
       "    .dataframe thead th {\n",
       "        text-align: right;\n",
       "    }\n",
       "</style>\n",
       "<table border=\"1\" class=\"dataframe\">\n",
       "  <thead>\n",
       "    <tr style=\"text-align: right;\">\n",
       "      <th></th>\n",
       "      <th>Time (s)</th>\n",
       "      <th>Linear Acceleration x (m/s^2)</th>\n",
       "      <th>Linear Acceleration y (m/s^2)</th>\n",
       "      <th>Linear Acceleration z (m/s^2)</th>\n",
       "      <th>Absolute acceleration (m/s^2)</th>\n",
       "    </tr>\n",
       "  </thead>\n",
       "  <tbody>\n",
       "    <tr>\n",
       "      <td>0</td>\n",
       "      <td>0.000000</td>\n",
       "      <td>0.109656</td>\n",
       "      <td>0.144639</td>\n",
       "      <td>-0.039712</td>\n",
       "      <td>0.185801</td>\n",
       "    </tr>\n",
       "    <tr>\n",
       "      <td>1</td>\n",
       "      <td>0.009987</td>\n",
       "      <td>0.118056</td>\n",
       "      <td>0.138814</td>\n",
       "      <td>-0.039563</td>\n",
       "      <td>0.186472</td>\n",
       "    </tr>\n",
       "    <tr>\n",
       "      <td>2</td>\n",
       "      <td>0.019975</td>\n",
       "      <td>0.120043</td>\n",
       "      <td>0.134523</td>\n",
       "      <td>-0.049895</td>\n",
       "      <td>0.187073</td>\n",
       "    </tr>\n",
       "    <tr>\n",
       "      <td>3</td>\n",
       "      <td>0.029962</td>\n",
       "      <td>0.125926</td>\n",
       "      <td>0.137986</td>\n",
       "      <td>-0.041064</td>\n",
       "      <td>0.191269</td>\n",
       "    </tr>\n",
       "    <tr>\n",
       "      <td>4</td>\n",
       "      <td>0.039950</td>\n",
       "      <td>0.120185</td>\n",
       "      <td>0.138033</td>\n",
       "      <td>-0.045854</td>\n",
       "      <td>0.188680</td>\n",
       "    </tr>\n",
       "  </tbody>\n",
       "</table>\n",
       "</div>"
      ],
      "text/plain": [
       "   Time (s)  Linear Acceleration x (m/s^2)  Linear Acceleration y (m/s^2)  \\\n",
       "0  0.000000                       0.109656                       0.144639   \n",
       "1  0.009987                       0.118056                       0.138814   \n",
       "2  0.019975                       0.120043                       0.134523   \n",
       "3  0.029962                       0.125926                       0.137986   \n",
       "4  0.039950                       0.120185                       0.138033   \n",
       "\n",
       "   Linear Acceleration z (m/s^2)  Absolute acceleration (m/s^2)  \n",
       "0                      -0.039712                       0.185801  \n",
       "1                      -0.039563                       0.186472  \n",
       "2                      -0.049895                       0.187073  \n",
       "3                      -0.041064                       0.191269  \n",
       "4                      -0.045854                       0.188680  "
      ]
     },
     "execution_count": 35,
     "metadata": {},
     "output_type": "execute_result"
    }
   ],
   "source": [
    "# Displaying the data\n",
    "raw = pd.read_excel(\"PSM Calculating Height Accelerometer Reading.xls\")\n",
    "raw.head()"
   ]
  },
  {
   "cell_type": "code",
   "execution_count": 36,
   "metadata": {},
   "outputs": [],
   "source": [
    "# Note we remaned the headers\n",
    "az = raw['Linear Acceleration z (m/s^2)']\n",
    "t = np.array(raw['Time (s)'])"
   ]
  },
  {
   "cell_type": "code",
   "execution_count": 37,
   "metadata": {},
   "outputs": [
    {
     "data": {
      "text/plain": [
       "0.00998035516743067"
      ]
     },
     "execution_count": 37,
     "metadata": {},
     "output_type": "execute_result"
    }
   ],
   "source": [
    "# Here we calculate the average time between data points (dt)\n",
    "total_time = t[-1]\n",
    "dt = total_time/len(t)\n",
    "dt"
   ]
  },
  {
   "cell_type": "code",
   "execution_count": 38,
   "metadata": {},
   "outputs": [
    {
     "data": {
      "text/plain": [
       "array([-0.03971195, -0.03956343, -0.04989488, ...,  0.60244565,\n",
       "        0.61107321,  0.3387754 ])"
      ]
     },
     "execution_count": 38,
     "metadata": {},
     "output_type": "execute_result"
    }
   ],
   "source": [
    "# Converting the acceleration values into an array\n",
    "az = np.array(az)\n",
    "az"
   ]
  },
  {
   "cell_type": "markdown",
   "metadata": {},
   "source": [
    "### Data Correction\n",
    "We began with the phone at rest for a period of time. We want to correct the data to make sure that when the phone was at rest is associated with $0 \\frac{m}{s^2}$ acceleration. This is not a science. We proceeded by examining a graph of raw acceleration versus time to find when the phone was truly at rest. There is generally noise in the very beginning of the recording as the screen is pressed. Then we will average these data points and create a new array with correction by subtracting the average values from the array of raw acceleration values. This eliminates any error that might be present in the accelerometer"
   ]
  },
  {
   "cell_type": "code",
   "execution_count": 45,
   "metadata": {},
   "outputs": [
    {
     "data": {
      "text/plain": [
       "<matplotlib.collections.PathCollection at 0x178f6f51048>"
      ]
     },
     "execution_count": 45,
     "metadata": {},
     "output_type": "execute_result"
    },
    {
     "data": {
      "image/png": "[encoded data removed]",
      "text/plain": [
       "<Figure size 432x288 with 1 Axes>"
      ]
     },
     "metadata": {
      "needs_background": "light"
     },
     "output_type": "display_data"
    }
   ],
   "source": [
    "avg = np.average(az[50:100])\n",
    "az = az-avg\n",
    "plt.scatter(t,az)"
   ]
  },
  {
   "cell_type": "markdown",
   "metadata": {},
   "source": [
    "### The Calculus of Position, Velocity, and Acceleration\n",
    "Suppose the function $a(t)$ denotes the acceleration of an object (in our case, our phone) at a given time, $t$. Then the velocity function $v(t)$ is given by\n",
    "$$v(t) = \\int_{0}^{t} a(s)ds.$$ Integrating once more, we obtain,\n",
    "$$x(t) = \\int_{0}^{t} v(s) ds = \\int_{0}^{t} \\int_{0}^{t} a(s) ds ds $$ for the position function $x(t)$. \n",
    "\n",
    "Within this worksheet we will use the python function cumsum() to approximate these integrals. The function calculates a cumulative sum of the acceleration values. Then we multiply by our $\\Delta t$, which as discussed earlier is an average of the times between readings. This calculates a Riemann sum to approximate our integral."
   ]
  },
  {
   "cell_type": "code",
   "execution_count": 46,
   "metadata": {},
   "outputs": [
    {
     "name": "stdout",
     "output_type": "stream",
     "text": [
      "The height is 1.91 meters.\n"
     ]
    },
    {
     "data": {
      "image/png": "[encoded data removed]",
      "text/plain": [
       "<Figure size 432x288 with 1 Axes>"
      ]
     },
     "metadata": {
      "needs_background": "light"
     },
     "output_type": "display_data"
    }
   ],
   "source": [
    "# Approximating the necessary integrals\n",
    "vz = az.cumsum()*dt\n",
    "#plt.plot(t,vz)\n",
    "pz = vz.cumsum()*dt\n",
    "plt.plot(t,pz)\n",
    "\n",
    "# Calculating height by finding where the function obtains it's maximum (when the phone was at the height of the person)\n",
    "height = np.amax(pz)\n",
    "print(\"The height is\", round(height,2), 'meters.')"
   ]
  },
  {
   "cell_type": "code",
   "execution_count": null,
   "metadata": {},
   "outputs": [],
   "source": []
  }
 ],
 "metadata": {
  "kernelspec": {
   "display_name": "Python 3",
   "language": "python",
   "name": "python3"
  },
  "language_info": {
   "codemirror_mode": {
    "name": "ipython",
    "version": 3
   },
   "file_extension": ".py",
   "mimetype": "text/x-python",
   "name": "python",
   "nbconvert_exporter": "python",
   "pygments_lexer": "ipython3",
   "version": "3.7.4"
  }
 },
 "nbformat": 4,
 "nbformat_minor": 2
}
