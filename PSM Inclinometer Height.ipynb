{
 "cells": [
  {
   "cell_type": "markdown",
   "metadata": {},
   "source": [
    "# Calculating Larger Heights Using the Inclinometer\n",
    "\n",
    "The purpose of this juptyer notebook is to take a csv or Excel input file of angle readings and return the height of a larger object like a building or room. This notebook is taylored to work with the ouput from the Physics Toolbox Sensor Suite app for the iPhone, but we have tried to make it easily modified to fit the output of other applications. To generate the necessary data to calculate height we set up an apparatus attaching a laser pointer to the phone. We then began the recording with the phone flat on the ground and then lifted the top of the phone until the laser pointer reached the height of the room or building. After pausing the recording is stopped. Using the data we approximated the height with trigonometry. Note we also need to know the distance from the phone of the object."
   ]
  },
  {
   "cell_type": "markdown",
   "metadata": {},
   "source": [
    "### The Input File Specification\n",
    "\n",
    "What follows assumes that the input.csv file resembles:\n",
    "```\n",
    "time,yaw,pitch,roll\n",
    "48:01.8,\t2.81,\t-1.6,\t-1.91,\n",
    "48:01.9,\t2.82,\t-1.62,\t-1.99,\n",
    "48:02.0,\t2.81,\t-1.57,\t-1.92,\n",
    "48:02.1,\t2.81,\t-1.37,\t-1.8\n",
    "```\n",
    "The ```time``` column has a time stamp for each data point given with a date and time. The same app for android users gives time data as elapsed time in units of seconds. \n",
    "\n",
    "The inclinometer sensor calculates the inclination of the phone in the $x-$, $y-$, $z-$ directions. \"Yaw\" refers to the $z-$axis and \"roll\" refers to the $y-$axis. We are interested in \"pitch\" which refers to rotation about the $x-$ axis. Given the $x-$ axis of an iPhone runs through the width of the phone. \n",
    "\n",
    "_Time Values:_ examining the time stamp values above, we see they are given as a time in the day as opposed to elapsed time. In the worksheet we will convert this to elapsed time using the datetime library. "
   ]
  },
  {
   "cell_type": "code",
   "execution_count": 1,
   "metadata": {},
   "outputs": [],
   "source": [
    "# These are the necessary libraries to plot, deal with arrays, and convert time from day to seconds\n",
    "import numpy as np\n",
    "import matplotlib.pyplot as plt\n",
    "import pandas as pd\n",
    "import datetime as dt\n",
    "import math"
   ]
  },
  {
   "cell_type": "markdown",
   "metadata": {},
   "source": [
    "### Data Collection \n",
    "\n",
    "To generate the necessary data to calculate height we set up an appartus involving an iPhone 8, a laser pointer, rubber band, and binder clip. The laser pointer is attached to the iPhone using a rubber band. Then the binder clip is used to keep the button pressed. We then began the recording with the phone flat on the ground with the laser pointer pointed at the base of a room or building. Then we raise the pointer until it reaches the top where we hold it as steady as possible. A tri-pod would improve this process but is not necessary of the accuracy that we desire. It is also necessary that we use a measuring device (or the accerometer on the phone) to find the distance from where the phone is positioned to the base of the object."
   ]
  },
  {
   "cell_type": "code",
   "execution_count": 2,
   "metadata": {},
   "outputs": [
    {
     "data": {
      "text/html": [
       "<div>\n",
       "<style scoped>\n",
       "    .dataframe tbody tr th:only-of-type {\n",
       "        vertical-align: middle;\n",
       "    }\n",
       "\n",
       "    .dataframe tbody tr th {\n",
       "        vertical-align: top;\n",
       "    }\n",
       "\n",
       "    .dataframe thead th {\n",
       "        text-align: right;\n",
       "    }\n",
       "</style>\n",
       "<table border=\"1\" class=\"dataframe\">\n",
       "  <thead>\n",
       "    <tr style=\"text-align: right;\">\n",
       "      <th></th>\n",
       "      <th>yaw</th>\n",
       "      <th>pitch</th>\n",
       "      <th>roll</th>\n",
       "    </tr>\n",
       "    <tr>\n",
       "      <th>time</th>\n",
       "      <th></th>\n",
       "      <th></th>\n",
       "      <th></th>\n",
       "    </tr>\n",
       "  </thead>\n",
       "  <tbody>\n",
       "    <tr>\n",
       "      <td>48:01.8</td>\n",
       "      <td>2.81</td>\n",
       "      <td>-1.60</td>\n",
       "      <td>-1.91</td>\n",
       "    </tr>\n",
       "    <tr>\n",
       "      <td>48:01.9</td>\n",
       "      <td>2.82</td>\n",
       "      <td>-1.62</td>\n",
       "      <td>-1.99</td>\n",
       "    </tr>\n",
       "    <tr>\n",
       "      <td>48:02.0</td>\n",
       "      <td>2.81</td>\n",
       "      <td>-1.57</td>\n",
       "      <td>-1.92</td>\n",
       "    </tr>\n",
       "    <tr>\n",
       "      <td>48:02.1</td>\n",
       "      <td>2.81</td>\n",
       "      <td>-1.37</td>\n",
       "      <td>-1.80</td>\n",
       "    </tr>\n",
       "    <tr>\n",
       "      <td>48:02.2</td>\n",
       "      <td>2.80</td>\n",
       "      <td>-1.07</td>\n",
       "      <td>-1.75</td>\n",
       "    </tr>\n",
       "  </tbody>\n",
       "</table>\n",
       "</div>"
      ],
      "text/plain": [
       "          yaw  pitch  roll\n",
       "time                      \n",
       "48:01.8  2.81  -1.60 -1.91\n",
       "48:01.9  2.82  -1.62 -1.99\n",
       "48:02.0  2.81  -1.57 -1.92\n",
       "48:02.1  2.81  -1.37 -1.80\n",
       "48:02.2  2.80  -1.07 -1.75"
      ]
     },
     "execution_count": 2,
     "metadata": {},
     "output_type": "execute_result"
    }
   ],
   "source": [
    "# Read the data from the inclinometer sensor\n",
    "# Use pd.read_excel for excel files\n",
    "# The second and third arguments are necessary for time conversion later\n",
    "raw = pd.read_csv(\"laserAllyRoom.csv\",index_col=0,parse_dates=True)\n",
    "\n",
    "\n",
    "#raw = pd.read_excel(\"laserAllyRoom.xlsx\")\n",
    "raw.head()"
   ]
  },
  {
   "cell_type": "code",
   "execution_count": 3,
   "metadata": {},
   "outputs": [],
   "source": [
    "# Manipulating raw tim values so they are given in elapsed seconds and have type float\n",
    "t = np.array(raw.index)\n",
    "for i in range(len(t)):\n",
    "    t[i] = t[i][3:]\n",
    "    t[i] = float(t[i])"
   ]
  },
  {
   "cell_type": "markdown",
   "metadata": {},
   "source": [
    "### Finding the Angle from the Data\n",
    "Below we plot the time vs. angle. Since we hold the laser pointer at the height of the object for a period of time, it is clear there is a period in our data where the angle is almost constat. Using the plot, we can approximate the angle formed betweent the ground and the building from our phone. In the plot below it appears from 14 to 20 seconds the laser pointed was pointed at the top of the building. At this angle appears to be approximately 60 degress, but we will take an average of the data over the period of time to find the best approximation of our angle."
   ]
  },
  {
   "cell_type": "code",
   "execution_count": 4,
   "metadata": {},
   "outputs": [
    {
     "data": {
      "text/plain": [
       "Text(0, 0.5, 'Angle (degrees)')"
      ]
     },
     "execution_count": 4,
     "metadata": {},
     "output_type": "execute_result"
    },
    {
     "data": {
      "image/png": "[encoded data removed]",
      "text/plain": [
       "<Figure size 432x288 with 1 Axes>"
      ]
     },
     "metadata": {
      "needs_background": "light"
     },
     "output_type": "display_data"
    }
   ],
   "source": [
    "angle = np.array(raw['pitch'])\n",
    "plt.plot(t,angle)\n",
    "plt.title('Inclination Over Time')\n",
    "plt.xlabel('Elapsed Time')\n",
    "plt.ylabel('Angle (degrees)') "
   ]
  },
  {
   "cell_type": "code",
   "execution_count": 14,
   "metadata": {},
   "outputs": [
    {
     "data": {
      "text/plain": [
       "62.829836065573765"
      ]
     },
     "execution_count": 14,
     "metadata": {},
     "output_type": "execute_result"
    }
   ],
   "source": [
    "# Calculating the average from 14 to 15 seconds\n",
    "t1 = np.where(t == 14.0) # index 122\n",
    "t2 = np.where(t == 20.0) # index 182\n",
    "average = np.cumsum(angle[122:182+1])\n",
    "end_angle = average[-1] / (183 - 122)\n",
    "beg_angle = angle[0]\n",
    "final_angle = end_angle - beg_angle\n",
    "final_angle"
   ]
  },
  {
   "cell_type": "markdown",
   "metadata": {},
   "source": [
    "### A Quick Triginometry Review\n",
    "\n",
    "We have now calculated the angle, let's call it $\\theta$ formed between the base of the object, the phone, and the height of the object. We also know the \"adjacent\" length, or the length from the phone to the base of the object. We'll refer to this length as $l$. We wish to find the \"opposite\" length, so we can use the tangent function. $$ \\tan(\\theta) = \\frac{opposite}{adjacent} \\implies height = l\\tan(\\theta)$$"
   ]
  },
  {
   "cell_type": "code",
   "execution_count": 11,
   "metadata": {},
   "outputs": [
    {
     "name": "stdout",
     "output_type": "stream",
     "text": [
      "The height of the room is 3.14 meters.\n"
     ]
    }
   ],
   "source": [
    "# We measured the length from the phone center to the wall to be 1.61 meters\n",
    "length = 1.61\n",
    "# Converting our degree measurement to radians\n",
    "rad = final_angle*(math.pi / 180)\n",
    "# Remembering our triginometry\n",
    "height = math.tan(rad) * length\n",
    "print(\"The height of the room is\", round(height,2), \"meters.\")"
   ]
  },
  {
   "cell_type": "code",
   "execution_count": null,
   "metadata": {},
   "outputs": [],
   "source": []
  }
 ],
 "metadata": {
  "kernelspec": {
   "display_name": "Python 3",
   "language": "python",
   "name": "python3"
  },
  "language_info": {
   "codemirror_mode": {
    "name": "ipython",
    "version": 3
   },
   "file_extension": ".py",
   "mimetype": "text/x-python",
   "name": "python",
   "nbconvert_exporter": "python",
   "pygments_lexer": "ipython3",
   "version": "3.7.4"
  }
 },
 "nbformat": 4,
 "nbformat_minor": 2
}
